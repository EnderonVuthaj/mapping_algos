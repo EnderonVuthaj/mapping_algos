{
 "cells": [
  {
   "cell_type": "markdown",
   "metadata": {},
   "source": [
    "## ECE495 Lab2: Krichmar Path Planning using Nengo"
   ]
  },
  {
   "cell_type": "markdown",
   "metadata": {},
   "source": [
    "This Lab uses Nengo to find the optimal path of a square or rectangular map using Krichmar's spike-wave propagation algorithm. The objectives of this lab are to:\n",
    "- Implement Krichmar's spike-wave propagation algorithm using Nengo neurons\n",
    "- Ensure the spike wave works for any rectangular or square map\n",
    "- Utilize an \"off-chip\" AER to compute the fastest route to get from any starting point (location) to any ending point (location)\n",
    "\n",
    "_Note: This is your assignment description and a proposed outline by which you can complete your assignment_\n",
    "- The assignment is worth 60 points\n",
    "- You may hardcode your connections for each of the three required maps _for a max score of 50/60_\n",
    "- _**Be sure to print your final path for each map or save it somewhere in your repository so that I can check your work!**_"
   ]
  },
  {
   "cell_type": "markdown",
   "metadata": {},
   "source": [
    "#### Set up\n",
    "\n",
    "**Ensure you are using your [495 Virtual Environment](https://github.com/kaitlin-fair/495venv_setup) before you begin!**  \n",
    "    \n",
    "Import Nengo and other supporting libraries into your program to get started:"
   ]
  },
  {
   "cell_type": "code",
   "execution_count": 54,
   "metadata": {},
   "outputs": [],
   "source": [
    "import matplotlib.pyplot as plt\n",
    "import numpy as np\n",
    "\n",
    "import nengo\n",
    "\n",
    "from nengo.processes import Piecewise\n",
    "from nengo.processes import WhiteSignal"
   ]
  },
  {
   "cell_type": "markdown",
   "metadata": {
    "id": "SRNvPHASH60r"
   },
   "source": [
    "### Input Maps\n",
    "\n",
    "Check that your spike-wave propagation and AER work for these three maps:\n",
    " \n",
    "(a) The following $3 \\times 3$ array with start location 0 (top left) and end location 8 (bottom right). \n",
    "$$\\begin{bmatrix} 1 & 2 & 1 \\\\\n",
    "                  1 & 3 & 5 \\\\\n",
    "                  7 & 1 & 1\n",
    "                      \\end{bmatrix}$$\n",
    "\n",
    "(b) The following $3 \\times 4$ array with start location 0 and end location 11.\n",
    "$$\\begin{bmatrix} 1 & 2 & 1 & 6 \\\\\n",
    "                  1 & 3 & 5 & 3 \\\\\n",
    "                  7 & 1 & 4 & 1\n",
    "                      \\end{bmatrix}$$\n",
    "\n",
    "(c) The following $5 \\times 5$ array with start location 10 and end location 4.\n",
    "$$\\begin{bmatrix} 1 & 3 & 7 & 2 & 1\\\\\n",
    "                  3 & 1 & 5 & 3 & 1\\\\\n",
    "                  3 & 2 & 6 & 1 & 2\\\\\n",
    "                  3 & 1 & 5 & 6 & 1\\\\\n",
    "                  2 & 2 & 1 & 1 & 2\n",
    "                      \\end{bmatrix}$$\n"
   ]
  },
  {
   "cell_type": "code",
   "execution_count": 55,
   "metadata": {},
   "outputs": [],
   "source": [
    "model = nengo.Network(label=\"PathPlanning - Krichmar\")\n",
    "with model:\n",
    "\n",
    "    # our array\n",
    "    map1 = np.array([[1, 2, 1], [1, 3, 5], [7, 1, 1]])\n",
    "\n",
    "    map2 = np.array([[1, 2, 1, 6], [1, 3, 5, 3], [7, 1, 4, 1]])\n",
    "\n",
    "    map3 = np.array(\n",
    "        [\n",
    "            [1, 3, 7, 2, 1],\n",
    "            [3, 1, 5, 3, 1],\n",
    "            [3, 2, 6, 1, 2],\n",
    "            [3, 1, 5, 6, 1],\n",
    "            [2, 2, 1, 1, 2],\n",
    "        ]\n",
    "    )\n",
    "\n",
    "\n",
    "map1start = [0, 0]\n",
    "map1end = [2, 2]\n",
    "\n",
    "map2start = [0, 0]\n",
    "map2end = [2, 3]\n",
    "\n",
    "map3start = [2, 0]\n",
    "map3end = [0, 3]\n",
    "\n",
    "\n",
    "desired_map = map1\n",
    "rows, cols = desired_map.shape\n",
    "\n",
    "\n",
    "map_delay_vals = desired_map\n",
    "\n",
    "\n",
    "# create an empty list to append stuff to store map locations but out of neurons\n",
    "model = nengo.Network(label=\"PathPlanning\")\n",
    "with model:\n",
    "    # Creating a piecewise for an input first...\n",
    "    inp_node = nengo.Node(\n",
    "        Piecewise({0: 1, 0.25: 0})\n",
    "    )  # piecewise function from inhibition lab as a generic piecewise input\n",
    "    map_neurons = []\n",
    "    for i in range(rows):\n",
    "        row = []\n",
    "        for j in range(cols):\n",
    "            row.append(nengo.Ensemble(100, dimensions=1))\n",
    "        map_neurons.append(row)  # was previously locations list\n",
    "\n",
    "\n",
    "# We'll make a simple object to implement the delayed connection\n",
    "class Delay:\n",
    "    def __init__(self, dimensions, timesteps=50):\n",
    "        self.history = np.zeros((timesteps, dimensions))\n",
    "        self.start = False\n",
    "        self.stop = False\n",
    "\n",
    "    def step(self, t, x):  # this is for inhibition\n",
    "        self.history = np.roll(self.history, -1)\n",
    "        self.history[-1] = x\n",
    "\n",
    "        if self.history[0] > 0.8:\n",
    "            self.start = True\n",
    "        if self.history[0] < 0.25 and self.start == True:\n",
    "            self.stop = True\n",
    "        if self.stop:\n",
    "            return 0\n",
    "        else:\n",
    "            return self.history[0]\n",
    "\n",
    "\n",
    "# This section creates delays for each block\n",
    "dt = 0.001  # default nengo timestep\n",
    "with model:\n",
    "    delay_neurons = []\n",
    "    for i in range(rows):\n",
    "        row = []\n",
    "        for k in range(cols):\n",
    "            delay = Delay(1, timesteps=int(map_delay_vals[i][j] / dt))\n",
    "            row.append(nengo.Node(delay.step, size_in=1, size_out=1))\n",
    "        delay_neurons.append(row)\n",
    "\n",
    "\n",
    "with model:\n",
    "\n",
    "    # connect piecewise to your first block\n",
    "    nengo.Connection(inp_node, delay_neurons[map1start[0]][map1start[1]])\n",
    "\n",
    "    for i in range(rows):  # check all the corners first then switch the\n",
    "\n",
    "        for j in range(cols):\n",
    "            nengo.Connection(\n",
    "                delay_neurons[i][j], map_neurons[i][j]\n",
    "            )  # connects delays to ensembles for every single slot!\n",
    "            # top left corner\n",
    "            if (i == 0) and (j == 0):\n",
    "\n",
    "                nengo.Connection(\n",
    "                    map_neurons[i][j], delay_neurons[i][j + 1]\n",
    "                )  # one to the right\n",
    "                nengo.Connection(\n",
    "                    map_neurons[i][j], delay_neurons[i + 1][j]\n",
    "                )  # one down!\n",
    "                nengo.Connection(\n",
    "                    map_neurons[i][j], delay_neurons[i + 1][j + 1]\n",
    "                )  # diagonal down right!\n",
    "\n",
    "            #  top right corner\n",
    "            elif (i == 0) and (j == cols - 1):\n",
    "                nengo.Connection(\n",
    "                    map_neurons[i][j], delay_neurons[i][j - 1]\n",
    "                )  # one to the left!\n",
    "                nengo.Connection(\n",
    "                    map_neurons[i][j], delay_neurons[i + 1][j]\n",
    "                )  # one down!\n",
    "                nengo.Connection(\n",
    "                    map_neurons[i][j], delay_neurons[i + 1][j - 1]\n",
    "                )  # diagonal down left!\n",
    "\n",
    "            # bottom left corner\n",
    "            elif (i == rows - 1) and (j == 0):\n",
    "                nengo.Connection(\n",
    "                    map_neurons[i][j], delay_neurons[i - 1][j]\n",
    "                )  # one unit straight up!\n",
    "                nengo.Connection(\n",
    "                    map_neurons[i][j], delay_neurons[i][j + 1]\n",
    "                )  # one unit right!\n",
    "                nengo.Connection(\n",
    "                    map_neurons[i][j], delay_neurons[i - 1][j + 1]\n",
    "                )  # diagonal up right!\n",
    "\n",
    "            # bottom right corner\n",
    "            elif (i == rows - 1) and (j == cols - 1):\n",
    "                nengo.Connection(\n",
    "                    map_neurons[i][j], delay_neurons[i][j - 1]\n",
    "                )  # one unit left!\n",
    "                nengo.Connection(\n",
    "                    map_neurons[i][j], delay_neurons[i - 1][j]\n",
    "                )  # one unit up!\n",
    "                nengo.Connection(\n",
    "                    map_neurons[i][j], delay_neurons[i - 1][j - 1]\n",
    "                )  # diagonal up left!\n",
    "\n",
    "            # top edge\n",
    "            elif i == 0:\n",
    "                nengo.Connection(\n",
    "                    map_neurons[i][j], delay_neurons[i][j - 1]\n",
    "                )  # one unit left!\n",
    "                nengo.Connection(\n",
    "                    map_neurons[i][j], delay_neurons[i][j + 1]\n",
    "                )  # one unit right!\n",
    "                nengo.Connection(\n",
    "                    map_neurons[i][j], delay_neurons[i + 1][j]\n",
    "                )  # one down!\n",
    "                nengo.Connection(\n",
    "                    map_neurons[i][j], delay_neurons[i + 1][j + 1]\n",
    "                )  # diagonal down right!\n",
    "                nengo.Connection(\n",
    "                    map_neurons[i][j], delay_neurons[i + 1][j - 1]\n",
    "                )  # diagonal down left!\n",
    "\n",
    "            # bottom edge\n",
    "            elif i == rows - 1:\n",
    "                nengo.Connection(\n",
    "                    map_neurons[i][j], delay_neurons[i][j - 1]\n",
    "                )  # one unit left!\n",
    "                nengo.Connection(\n",
    "                    map_neurons[i][j], delay_neurons[i - 1][j]\n",
    "                )  # one unit up!\n",
    "                nengo.Connection(\n",
    "                    map_neurons[i][j], delay_neurons[i][j + 1]\n",
    "                )  # one to the right!\n",
    "                nengo.Connection(\n",
    "                    map_neurons[i][j], delay_neurons[i - 1][j + 1]\n",
    "                )  # diagonal up right!\n",
    "                nengo.Connection(\n",
    "                    map_neurons[i][j], delay_neurons[i - 1][j - 1]\n",
    "                )  # diagonal up left!\n",
    "\n",
    "            # left edge\n",
    "            elif j == 0:\n",
    "                nengo.Connection(\n",
    "                    map_neurons[i][j], delay_neurons[i - 1][j]\n",
    "                )  # one unit up!\n",
    "                nengo.Connection(\n",
    "                    map_neurons[i][j], delay_neurons[i][j + 1]\n",
    "                )  # one to the right!\n",
    "                nengo.Connection(\n",
    "                    map_neurons[i][j], delay_neurons[i + 1][j]\n",
    "                )  # one down!\n",
    "                nengo.Connection(\n",
    "                    map_neurons[i][j], delay_neurons[i - 1][j + 1]\n",
    "                )  # diagonal up right!\n",
    "                nengo.Connection(\n",
    "                    map_neurons[i][j], delay_neurons[i + 1][j + 1]\n",
    "                )  # diagonal down right!\n",
    "\n",
    "            # right edge\n",
    "            elif cols - 1:\n",
    "                nengo.Connection(\n",
    "                    map_neurons[i][j], delay_neurons[i - 1][j]\n",
    "                )  # one unit up!\n",
    "                nengo.Connection(\n",
    "                    map_neurons[i][j], delay_neurons[i][j - 1]\n",
    "                )  # one unit left!\n",
    "                nengo.Connection(\n",
    "                    map_neurons[i][j], delay_neurons[i + 1][j]\n",
    "                )  # one down!\n",
    "                nengo.Connection(\n",
    "                    map_neurons[i][j], delay_neurons[i - 1][j - 1]\n",
    "                )  # diagonal up left!\n",
    "                nengo.Connection(\n",
    "                    map_neurons[i][j], delay_neurons[i + 1][j - 1]\n",
    "                )  # diagonal down left!\n",
    "\n",
    "            # ELSE for all the internal ones! (should be 8)\n",
    "            else:\n",
    "                nengo.Connection(\n",
    "                    map_neurons[i][j], delay_neurons[i - 1][j]\n",
    "                )  # one unit up!\n",
    "                nengo.Connection(\n",
    "                    map_neurons[i][j], delay_neurons[i + 1][j]\n",
    "                )  # one down!\n",
    "                nengo.Connection(\n",
    "                    map_neurons[i][j], delay_neurons[i][j - 1]\n",
    "                )  # one unit left!\n",
    "                nengo.Connection(\n",
    "                    map_neurons[i][j], delay_neurons[i][j + 1]\n",
    "                )  # one to the right!\n",
    "                nengo.Connection(\n",
    "                    map_neurons[i][j], delay_neurons[i - 1][j + 1]\n",
    "                )  # diagonal up right!\n",
    "                nengo.Connection(\n",
    "                    map_neurons[i][j], delay_neurons[i - 1][j - 1]\n",
    "                )  # diagonal up left!\n",
    "                nengo.Connection(\n",
    "                    map_neurons[i][j], delay_neurons[i + 1][j + 1]\n",
    "                )  # diagonal down right!\n",
    "                nengo.Connection(\n",
    "                    map_neurons[i][j], delay_neurons[i + 1][j - 1]\n",
    "                )  # diagonal down left!"
   ]
  },
  {
   "cell_type": "markdown",
   "metadata": {
    "id": "GVEl2ZdARMhN"
   },
   "source": [
    "### Set up and run your Nengo model to implement the spike-wave propagation\n",
    "_Be sure to generalize or take the 10 points deduction!_\n",
    "\n",
    "Hints: \n",
    "- Use a piecewise function to kick off the spike wave, then turn off your input and let the wave do the rest. Be sure this input connects to your _start location._\n",
    "- Use a Nengo Ensemble for each map location (you can use an Ensemble array, a multidimensional ensemble, or a list of ensembles). Every map location has anywhere from 3 (corner locations) to 8 (inside locations) neighbors to which it can send a spike. Be careful with your connections! I personally said each of them had 8 possible locations and then deleted any locations that were \"off-map\", but do what makes the most sense to you. \n",
    "- Create a delay node to emulate an axonal delay from Krichmar's algorithm. Each map location should have a delay equal to the weight (difficulty of traversal) of the location.\n",
    "- Implementing inhibition is _difficult_! Recall from Krichmar's algorithm that once a map location fires, it should not fire again. If you can't get the inhibition to work, instead try to add another function to your delay node that turns off a map location once it's sent the spike wave forward"
   ]
  },
  {
   "cell_type": "code",
   "execution_count": 56,
   "metadata": {},
   "outputs": [
    {
     "data": {
      "application/vdom.v1+json": {
       "attributes": {},
       "tagName": "div"
      },
      "text/html": [
       "\n",
       "                <script>\n",
       "                    if (Jupyter.version.split(\".\")[0] < 5) {\n",
       "                        var pb = document.getElementById(\"e20dde17-dcf2-4db5-bd06-410b40e41033\");\n",
       "                        var text = document.createTextNode(\n",
       "                            \"HMTL progress bar requires Jupyter Notebook >= \" +\n",
       "                            \"5.0 or Jupyter Lab. Alternatively, you can use \" +\n",
       "                            \"TerminalProgressBar().\");\n",
       "                        pb.parentNode.insertBefore(text, pb);\n",
       "                    }\n",
       "                </script>\n",
       "                <div id=\"e20dde17-dcf2-4db5-bd06-410b40e41033\" style=\"\n",
       "                    width: 100%;\n",
       "                    border: 1px solid #cfcfcf;\n",
       "                    border-radius: 4px;\n",
       "                    text-align: center;\n",
       "                    position: relative;\">\n",
       "                  <div class=\"pb-text\" style=\"\n",
       "                      position: absolute;\n",
       "                      width: 100%;\">\n",
       "                    0%\n",
       "                  </div>\n",
       "                  <div class=\"pb-fill\" style=\"\n",
       "                      background-color: #bdd2e6;\n",
       "                      width: 0%;\">\n",
       "                    <style type=\"text/css\" scoped=\"scoped\">\n",
       "                        @keyframes pb-fill-anim {\n",
       "                            0% { background-position: 0 0; }\n",
       "                            100% { background-position: 100px 0; }\n",
       "                        }\n",
       "                    </style>\n",
       "                    &nbsp;\n",
       "                  </div>\n",
       "                </div>"
      ],
      "text/plain": [
       "HtmlProgressBar cannot be displayed. Please use the TerminalProgressBar. It can be enabled with `nengo.rc['progress']['progress_bar'] = 'nengo.utils.progress.TerminalProgressBar'`."
      ]
     },
     "metadata": {},
     "output_type": "display_data"
    },
    {
     "data": {
      "application/vdom.v1+json": {
       "attributes": {
        "id": "51dae0b5-5df5-4328-8288-d943d6f853ae",
        "style": {
         "border": "1px solid #cfcfcf",
         "borderRadius": "4px",
         "boxSizing": "border-box",
         "position": "relative",
         "textAlign": "center",
         "width": "100%"
        }
       },
       "children": [
        {
         "attributes": {
          "class": "pb-text",
          "style": {
           "position": "absolute",
           "width": "100%"
          }
         },
         "children": [
          "Build finished in 0:00:01."
         ],
         "tagName": "div"
        },
        {
         "attributes": {
          "class": "pb-fill",
          "style": {
           "animation": "none",
           "backgroundColor": "#bdd2e6",
           "backgroundImage": "none",
           "backgroundSize": "100px 100%",
           "width": "100%"
          }
         },
         "children": [
          {
           "attributes": {
            "scoped": "scoped",
            "type": "text/css"
           },
           "children": [
            "\n                        @keyframes pb-fill-anim {\n                            0% { background-position: 0 0; }\n                            100% { background-position: 100px 0; }\n                        }}"
           ],
           "tagName": "style"
          },
          " "
         ],
         "tagName": "div"
        }
       ],
       "tagName": "div"
      },
      "text/html": [
       "<script>\n",
       "              (function () {\n",
       "                  var root = document.getElementById('e20dde17-dcf2-4db5-bd06-410b40e41033');\n",
       "                  var text = root.getElementsByClassName('pb-text')[0];\n",
       "                  var fill = root.getElementsByClassName('pb-fill')[0];\n",
       "\n",
       "                  text.innerHTML = 'Build finished in 0:00:01.';\n",
       "                  \n",
       "            fill.style.width = '100%';\n",
       "            fill.style.animation = 'pb-fill-anim 2s linear infinite';\n",
       "            fill.style.backgroundSize = '100px 100%';\n",
       "            fill.style.backgroundImage = 'repeating-linear-gradient(' +\n",
       "                '90deg, #bdd2e6, #edf2f8 40%, #bdd2e6 80%, #bdd2e6)';\n",
       "        \n",
       "                  \n",
       "                fill.style.animation = 'none';\n",
       "                fill.style.backgroundImage = 'none';\n",
       "            \n",
       "              })();\n",
       "        </script>"
      ]
     },
     "metadata": {},
     "output_type": "display_data"
    },
    {
     "data": {
      "application/vdom.v1+json": {
       "attributes": {},
       "tagName": "div"
      },
      "text/html": [
       "\n",
       "                <script>\n",
       "                    if (Jupyter.version.split(\".\")[0] < 5) {\n",
       "                        var pb = document.getElementById(\"c436d4a2-790f-4a6d-b56b-27092d4603fa\");\n",
       "                        var text = document.createTextNode(\n",
       "                            \"HMTL progress bar requires Jupyter Notebook >= \" +\n",
       "                            \"5.0 or Jupyter Lab. Alternatively, you can use \" +\n",
       "                            \"TerminalProgressBar().\");\n",
       "                        pb.parentNode.insertBefore(text, pb);\n",
       "                    }\n",
       "                </script>\n",
       "                <div id=\"c436d4a2-790f-4a6d-b56b-27092d4603fa\" style=\"\n",
       "                    width: 100%;\n",
       "                    border: 1px solid #cfcfcf;\n",
       "                    border-radius: 4px;\n",
       "                    text-align: center;\n",
       "                    position: relative;\">\n",
       "                  <div class=\"pb-text\" style=\"\n",
       "                      position: absolute;\n",
       "                      width: 100%;\">\n",
       "                    0%\n",
       "                  </div>\n",
       "                  <div class=\"pb-fill\" style=\"\n",
       "                      background-color: #bdd2e6;\n",
       "                      width: 0%;\">\n",
       "                    <style type=\"text/css\" scoped=\"scoped\">\n",
       "                        @keyframes pb-fill-anim {\n",
       "                            0% { background-position: 0 0; }\n",
       "                            100% { background-position: 100px 0; }\n",
       "                        }\n",
       "                    </style>\n",
       "                    &nbsp;\n",
       "                  </div>\n",
       "                </div>"
      ],
      "text/plain": [
       "HtmlProgressBar cannot be displayed. Please use the TerminalProgressBar. It can be enabled with `nengo.rc['progress']['progress_bar'] = 'nengo.utils.progress.TerminalProgressBar'`."
      ]
     },
     "metadata": {},
     "output_type": "display_data"
    },
    {
     "data": {
      "application/vdom.v1+json": {
       "attributes": {
        "id": "8368e7f7-44fb-4b4b-bb02-0dac2063baf7",
        "style": {
         "border": "1px solid #cfcfcf",
         "borderRadius": "4px",
         "boxSizing": "border-box",
         "position": "relative",
         "textAlign": "center",
         "width": "100%"
        }
       },
       "children": [
        {
         "attributes": {
          "class": "pb-text",
          "style": {
           "position": "absolute",
           "width": "100%"
          }
         },
         "children": [
          "Simulation finished in 0:00:07."
         ],
         "tagName": "div"
        },
        {
         "attributes": {
          "class": "pb-fill",
          "style": {
           "animation": "none",
           "backgroundColor": "#bdd2e6",
           "backgroundImage": "none",
           "transition": "width 0.1s linear",
           "width": "100%"
          }
         },
         "children": [
          {
           "attributes": {
            "scoped": "scoped",
            "type": "text/css"
           },
           "children": [
            "\n                        @keyframes pb-fill-anim {\n                            0% { background-position: 0 0; }\n                            100% { background-position: 100px 0; }\n                        }}"
           ],
           "tagName": "style"
          },
          " "
         ],
         "tagName": "div"
        }
       ],
       "tagName": "div"
      },
      "text/html": [
       "<script>\n",
       "              (function () {\n",
       "                  var root = document.getElementById('c436d4a2-790f-4a6d-b56b-27092d4603fa');\n",
       "                  var text = root.getElementsByClassName('pb-text')[0];\n",
       "                  var fill = root.getElementsByClassName('pb-fill')[0];\n",
       "\n",
       "                  text.innerHTML = 'Simulation finished in 0:00:07.';\n",
       "                  \n",
       "            if (100.0 > 0.) {\n",
       "                fill.style.transition = 'width 0.1s linear';\n",
       "            } else {\n",
       "                fill.style.transition = 'none';\n",
       "            }\n",
       "\n",
       "            fill.style.width = '100.0%';\n",
       "            fill.style.animation = 'none';\n",
       "            fill.style.backgroundImage = 'none'\n",
       "        \n",
       "                  \n",
       "                fill.style.animation = 'none';\n",
       "                fill.style.backgroundImage = 'none';\n",
       "            \n",
       "              })();\n",
       "        </script>"
      ]
     },
     "metadata": {},
     "output_type": "display_data"
    },
    {
     "data": {
      "text/plain": [
       "[<matplotlib.lines.Line2D at 0x223cb93aa10>]"
      ]
     },
     "execution_count": 56,
     "metadata": {},
     "output_type": "execute_result"
    },
    {
     "data": {
      "image/png": "[encoded data removed]",
      "text/plain": [
       "<Figure size 640x480 with 1 Axes>"
      ]
     },
     "metadata": {},
     "output_type": "display_data"
    },
    {
     "data": {
      "image/png": "[encoded data removed]",
      "text/plain": [
       "<Figure size 640x480 with 1 Axes>"
      ]
     },
     "metadata": {},
     "output_type": "display_data"
    }
   ],
   "source": [
    "with model:\n",
    "    neuron_probe_list = []\n",
    "\n",
    "    for i in range(rows):\n",
    "        for j in range(cols):\n",
    "            neuron_probe_list.append(nengo.Probe(map_neurons[i][j], synapse=0.01))\n",
    "\n",
    "sim_time = 10\n",
    "# Now run your simulation and plot the results after creating the probe\n",
    "with nengo.Simulator(model) as sim:\n",
    "    # Run it for 5 seconds\n",
    "    sim.run(sim_time)\n",
    "\n",
    "    # plot\n",
    "    plt.figure()\n",
    "    # plt.plot(sim.trange(), sim.data[neuron_probe_list[7]], label=\"Ensemble Plot\")\n",
    "for i in range(8):\n",
    "    plt.plot(sim.trange(), sim.data[neuron_probe_list[i]], label=\"Ensemble Plot\")\n",
    "\n",
    "    plt.legend(loc=\"best\")\n",
    "\n",
    "plt.figure()\n",
    "# for i in range(8):\n",
    "#     plt.plot(sim.trange(), sim.data[neuron_probe_list[i]], label=\"Ensemble Plot\")\n",
    "plt.plot(sim.trange(), sim.data[neuron_probe_list[8]], label=\"Ensemble Plot\")"
   ]
  },
  {
   "cell_type": "markdown",
   "metadata": {},
   "source": [
    "### Create AER off-neuron\n",
    "_Pay attention to how Krichmar says he uses the AER to determine the path_  \n",
    "\n",
    "Hints:\n",
    "- The AER contains a location and a time of first spike.\n",
    "- Start at the end location and work backward!\n",
    "- I found that by looking at the first spike times of all possible neighboring map locations and choosing the smallest time allowed me to work from end node to start node for my optimal path."
   ]
  },
  {
   "cell_type": "code",
   "execution_count": 57,
   "metadata": {},
   "outputs": [
    {
     "name": "stdout",
     "output_type": "stream",
     "text": [
      "[[1029 2039 3052]\n",
      " [6039 6038 7048]\n",
      " [7034 7033 8037]]\n"
     ]
    }
   ],
   "source": [
    "first_spike_list = []\n",
    "\n",
    "# Iterate through all probes -- all spike values greater than .8\n",
    "for i in range(0, len(neuron_probe_list)):\n",
    "    aer = sim.data[neuron_probe_list[i]][:, 0] > 0.8\n",
    "    spikes_locs = np.where(aer == True)\n",
    "    if np.asarray(spikes_locs).size == 0:  # if there was no first spike value\n",
    "        first_spike = sim_time / dt  # then set it returns a high value so that\n",
    "    else:\n",
    "        first_spike = np.min(spikes_locs)\n",
    "        first_spike_list.append(first_spike)\n",
    "\n",
    "initial_array = np.array(first_spike_list)\n",
    "reshaped_spike_list = initial_array.reshape(rows, cols)\n",
    "\n",
    "print(reshaped_spike_list)"
   ]
  },
  {
   "cell_type": "markdown",
   "metadata": {
    "id": "IU76Mt_cfa7q"
   },
   "source": [
    "### Print your optimal path\n",
    "_Be sure to show your results_  \n",
    "\n",
    "Some options:\n",
    "- You can print your map locations as x- and y- coordinates (examples: start_loc = [0,0] or [2,0]) or flattened locations (examples: start_loc = 0 or 10)\n",
    "- You can create a picture of a map (like in Krichmar's paper) where you draw out your final path"
   ]
  },
  {
   "cell_type": "code",
   "execution_count": null,
   "metadata": {},
   "outputs": [],
   "source": [
    "# Worked mostly with Taylor Harkley and got help from Alex Mercier, could not figure out AER on time so I will turn it in like this."
   ]
  }
 ],
 "metadata": {
  "colab": {
   "provenance": []
  },
  "kernelspec": {
   "display_name": "Python 3",
   "name": "python3"
  },
  "language_info": {
   "codemirror_mode": {
    "name": "ipython",
    "version": 3
   },
   "file_extension": ".py",
   "mimetype": "text/x-python",
   "name": "python",
   "nbconvert_exporter": "python",
   "pygments_lexer": "ipython3",
   "version": "3.10.11"
  }
 },
 "nbformat": 4,
 "nbformat_minor": 0
}
